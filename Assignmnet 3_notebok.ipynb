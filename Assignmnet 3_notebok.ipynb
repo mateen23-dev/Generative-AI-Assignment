{
 "cells": [
  {
   "cell_type": "markdown",
   "metadata": {
    "id": "LqyxjCYkHEgx"
   },
   "source": [
    "\n",
    "<div align=\"center\">\n",
    "  <h1></h1>\n",
    "  <h1>Multi-Agent Meal Planning</h1>\n",
    "  <h4 align=\"center\">Assignmnet III</h4>\n",
    "  <h4 align=\"center\"></h4>\n",
    "</div>"
   ]
  },
  {
   "cell_type": "markdown",
   "metadata": {
    "id": "3xtFXjOSHdJq"
   },
   "source": [
    "Welcome to Assignment III!\n",
    "\n",
    "In this notebook, you will design and implement a Multi-Agent Meal Planning System that generates meal recommendations while adhering to budgetary and nutritional constraints. Using a team of specialized agents, you'll create a dynamic and interactive system capable of tailoring meal plans to diverse user requirements.\n",
    "\n",
    "**By the end of this assignment, you'll be able to:**\n",
    "1. Build a Multi-Agent System to collaboratively solve a complex task, such as\n",
    "meal planning.\n",
    "2. Design agents with specialized roles, such as recommending meals or validating budgets.\n",
    "3. Implement agent coordination mechanisms using RoundRobinGroupChat for group chatting.\n",
    "4. Integrate external tools (e.g., a Budget Checker Tool) to ensure the system adheres to financial constraints.\n",
    "5. Use termination methods effectively to manage agent interactions and prevent resource overuse."
   ]
  },
  {
   "cell_type": "markdown",
   "metadata": {
    "id": "jKmTq4gUHnlV"
   },
   "source": [
    "## Group Members\n",
    "\n",
    "\n",
    "1. First memebr:\n",
    "  * Name: Hoang Long Nguyen\n",
    "  * Matrikel-Nr.: 428832\n",
    "2. Second memebr:\n",
    "  * Name: Mateen Mahmood\n",
    "  * Matrikel-Nr.: 426365\n",
    "2. Third memebr:\n",
    "  * Name: Kedigemane Trivikram\n",
    "  * Matrikel-Nr.: 429106"
   ]
  },
  {
   "cell_type": "markdown",
   "metadata": {
    "id": "B4PmZxLsHq2w"
   },
   "source": [
    "# 1. Access to GROQ.\n",
    "Execute the following cell to connect to your Groq account."
   ]
  },
  {
   "cell_type": "code",
   "execution_count": 1,
   "metadata": {
    "id": "ZYkvWYtAMYL1"
   },
   "outputs": [
    {
     "name": "stdin",
     "output_type": "stream",
     "text": [
      "Enter GROQ_API_KEY here:  ········\n"
     ]
    }
   ],
   "source": [
    "import os\n",
    "from getpass import getpass\n",
    "\n",
    "tokenGROQ = getpass('Enter GROQ_API_KEY here: ')\n",
    "os.environ[\"GROQ_API_KEY\"] = tokenGROQ"
   ]
  },
  {
   "cell_type": "markdown",
   "metadata": {
    "id": "qHulOeVOMmyD"
   },
   "source": [
    "# 2. Packages\n",
    "Execute the following code cells for installing the packages needed."
   ]
  },
  {
   "cell_type": "code",
   "execution_count": 2,
   "metadata": {
    "id": "efxTjkXiMtyG"
   },
   "outputs": [],
   "source": [
    "# !pip install autogen-agentchat autogen-ext[openai] matplotlib yfinance -q\n",
    "# !pip install groq -q"
   ]
  },
  {
   "cell_type": "markdown",
   "metadata": {
    "id": "BUvMKTSAM2NJ"
   },
   "source": [
    "# 3. Problem Statement: Multi-Agent Meal Planning System with Budget Management"
   ]
  },
  {
   "cell_type": "markdown",
   "metadata": {
    "id": "NArOztp59V1n"
   },
   "source": [
    "\n",
    "In this notebook we will design and implement a multi-agent system to assist users in meal planning while addressing the following:\n",
    "\n",
    "* Dietary preferences: Personalization based on restrictions and user preferences.\n",
    "* Nutritional goals: Balanced and healthy meal recommendations.\n",
    "* Financial constraints: Ensuring affordability through budget validation.\n",
    "\n",
    "This system will include a Budget Checker Tool to guarantee all recommendations fit within the user's financial limits.\n",
    "\n",
    "\n",
    "**System**\n",
    "\n",
    "1. Personalized Meal Recommendations:\n",
    "\n",
    "* Provides tailored meal suggestions for breakfast, lunch, dinner, and snacks.\n",
    "* Considers dietary restrictions, time availability, and individual preferences.\n",
    "\n",
    "2. Budget Validation:\n",
    "\n",
    "* Uses the Budget Checker Tool to confirm that meal costs fit within the user’s budget.\n",
    "3. User-Friendly Assistance:\n",
    "\n",
    "* Delivers clear, concise, and actionable recommendations for each meal type.\n",
    "\n",
    "**Agent Roles**\n",
    "\n",
    "1. Breakfast Agent:\n",
    "\n",
    "Role: Recommends breakfast options that align with dietary preferences, preparation time, and nutritional goals.\n",
    "\n",
    "Specialization: Provides a single breakfast suggestion and validates its affordability using the Budget Checker Tool.\n",
    "2. Lunch Agent:\n",
    "\n",
    "Role: Suggests balanced and nutritious lunch options tailored to dietary needs.\n",
    "\n",
    "Specialization: Offers one lunch suggestion and ensures it fits within the budget.\n",
    "\n",
    "3. Dinner Agent:\n",
    "\n",
    "Role: Recommends practical dinner options based on dietary requirements, budget, and preparation constraints.\n",
    "\n",
    "Specialization: Validates that dinner suggestions are both feasible and affordable.\n",
    "\n",
    "4. Snack Agent:\n",
    "\n",
    "Role: Proposes healthy and satisfying snack options to complement the day’s meals.\n",
    "\n",
    "Specialization: Verifies that snack recommendations are affordable and nutritionally balanced.\n",
    "\n",
    "5. Budget Agent:\n",
    "\n",
    "Role: Ensures all meal costs remain within the user's remaining budget by using the Budget Checker Tool.\n",
    "\n",
    "Specialization: Provides real-time budget feedback to guide meal selections and prevent overspending.\n",
    "\n",
    "\n",
    "\n",
    "**Custom Tool: Budget Checker Tool**\n",
    "1. Purpose:\n",
    "\n",
    "* Validates if a proposed meal cost fits within the user’s current budget.\n",
    "\n",
    "2. Features:\n",
    "\n",
    "* Budget Validation: Compares the cost of a meal against the remaining budget.\n",
    "* Feedback: Provides clear, actionable messages indicating:\n",
    "\n",
    "  Whether the cost is affordable.\n",
    "\n",
    "  How much budget remains or is exceeded.\n",
    "\n",
    "* Integration: Used by all meal-specific agents to ensure recommendations are financially feasible."
   ]
  },
  {
   "cell_type": "markdown",
   "metadata": {
    "id": "XbXVJt2bPj_f"
   },
   "source": [
    "# 4. Configure the Model Client:\n",
    "\n",
    "Use the OpenAIChatCompletionClient class to create an instance of the model client.\n",
    "\n",
    "Configure it with the following:\n",
    "\n",
    "* Model name: \"llama3-70b-8192\".\n",
    "\n",
    "* API base URL: \"https://api.groq.com/openai/v1\".\n",
    "\n",
    "* API key: Use an environment variable named \"GROQ_API_KEY\" for secure authentication.\n",
    "\n",
    "* Model settings: Include attributes like whether vision is enabled, function-calling support, and JSON output format."
   ]
  },
  {
   "cell_type": "code",
   "execution_count": 3,
   "metadata": {
    "id": "Bhq1nPdMNzZi"
   },
   "outputs": [
    {
     "name": "stdout",
     "output_type": "stream",
     "text": [
      "<autogen_ext.models.openai._openai_client.OpenAIChatCompletionClient object at 0x000001E691F2CE60>\n"
     ]
    }
   ],
   "source": [
    "# # 4. Configure the Model Client:\n",
    "\n",
    "# Use the OpenAIChatCompletionClient class to create an instance of the model client.\n",
    "\n",
    "# Configure it with the following:\n",
    "\n",
    "# * Model name: \"llama3-70b-8192\".\n",
    "\n",
    "# * API base URL: \"https://api.groq.com/openai/v1\".\n",
    "\n",
    "# * API key: Use an environment variable named \"GROQ_API_KEY\" for secure authentication.\n",
    "\n",
    "# * Model settings: Include attributes like whether vision is enabled, function-calling support, and JSON output format.\n",
    "\n",
    "from autogen_ext.models.openai import OpenAIChatCompletionClient\n",
    "\n",
    "# Step 1: Create the model client\n",
    "# Complete the following implementation\n",
    "model_client = OpenAIChatCompletionClient(\n",
    "    model=\"llama3-70b-8192\",\n",
    "    base_url=\"https://api.groq.com/openai/v1\",\n",
    "    api_key=os.environ[\"GROQ_API_KEY\"],\n",
    "    model_info={\n",
    "        \"vision\": False,\n",
    "        \"function_calling\": True,\n",
    "        \"json_output\": False,\n",
    "        \"family\": \"unknown\",\n",
    "    },\n",
    ")\n",
    "\n",
    "# Step 2: Verify the client is set up correctly\n",
    "print(model_client)"
   ]
  },
  {
   "cell_type": "markdown",
   "metadata": {
    "id": "tw0V5q65N5fM"
   },
   "source": [
    "# 5. Budget Tracker Tool\n",
    "\n",
    "The provided code implements a Budget Checker Tool to validate whether a given cost is within the current budget."
   ]
  },
  {
   "cell_type": "code",
   "execution_count": 4,
   "metadata": {
    "id": "WzDx9Y0rY_kI"
   },
   "outputs": [],
   "source": [
    "from autogen_core.tools import FunctionTool\n",
    "\n",
    "def budget_checker_tool(cost: float, current_budget: float) -> dict:\n",
    "    \"\"\"\n",
    "    Check if a given cost fits within the current budget.\n",
    "\n",
    "    :param cost: float, the cost to check.\n",
    "    :param current_budget: float, the current remaining budget.\n",
    "    :return: dict, containing whether the cost fits the budget and a message.\n",
    "    \"\"\"\n",
    "    if cost > current_budget:\n",
    "        return {\n",
    "            \"fits_budget\": False,\n",
    "            \"message\": f\"This exceeds your budget by ${cost - current_budget:.2f}.\"\n",
    "        }\n",
    "    return {\n",
    "        \"fits_budget\": True,\n",
    "        \"message\": f\"The cost of ${cost:.2f} fits within your budget.\"\n",
    "    }\n",
    "\n",
    "# Example usage with the FunctionTool\n",
    "budget_checker_tool = FunctionTool(\n",
    "    budget_checker_tool,\n",
    "    description=\"Check if a given cost fits within the current budget.\"\n",
    ")"
   ]
  },
  {
   "cell_type": "markdown",
   "metadata": {
    "id": "tlonsPS0Mtj1"
   },
   "source": [
    "#6. Agent Design\n",
    "\n",
    "In this task, you will implement a set of specialized Assistant Agents to collaboratively plan meals while addressing dietary, nutritional, and budgetary constraints. You will design Meal Planner Agents for breakfast, lunch, dinner, and snacks, each with clear roles and behavioral instructions."
   ]
  },
  {
   "cell_type": "code",
   "execution_count": 5,
   "metadata": {
    "id": "RI1MB6P-VpN3"
   },
   "outputs": [
    {
     "name": "stdout",
     "output_type": "stream",
     "text": [
      "Agents initialized successfully!\n"
     ]
    }
   ],
   "source": [
    "# Import the required class\n",
    "from autogen_agentchat.agents import AssistantAgent\n",
    "\n",
    "# Step 1: Define the Budget Agent\n",
    "# Complete the following implementation\n",
    "budget_agent = AssistantAgent(\n",
    "    name=\"budget_agent\",\n",
    "    tools=[budget_checker_tool],  # Use the budget checker tool\n",
    "    model_client=model_client,\n",
    "    description=\"An agent that helps to check if a given cost fits within the current budget.\",\n",
    "    system_message=\"You are a budget agent. Your task is to check if a given cost fits within the current budget.\"\n",
    ")\n",
    "\n",
    "# Step 2: Define the Breakfast Planner Agent\n",
    "# Complete the following implementation\n",
    "breakfast_agent = AssistantAgent(\n",
    "    name=\"breakfast_agent\",\n",
    "    model_client=model_client,\n",
    "    description=\"An agent that helps to plan breakfast meals.\",\n",
    "    system_message=\"You are a breakfast planner agent. Plan only breakfast.\"\n",
    ")\n",
    "\n",
    "# Step 3: Define the Lunch Planner Agent\n",
    "# Complete the following implementation\n",
    "lunch_agent = AssistantAgent(\n",
    "    name=\"lunch_agent\",\n",
    "    model_client=model_client,\n",
    "    description=\"An agent that helps to plan lunch meals.\",\n",
    "    system_message=\"You are a lunch planner agent. Plan only lunch.\"\n",
    ")\n",
    "\n",
    "# Step 4: Define the Dinner Planner Agent\n",
    "# Complete the following implementation\n",
    "dinner_agent = AssistantAgent(\n",
    "    name=\"dinner_agent\",\n",
    "    model_client=model_client,\n",
    "    description=\"An agent that helps to plan dinner meals.\",\n",
    "    system_message=\"You are a dinner planner agent. Plan only dinner.\"\n",
    ")\n",
    "\n",
    "# Step 5: Define the Snack Planner Agent\n",
    "# Complete the following implementation\n",
    "snack_agent = AssistantAgent(\n",
    "    name=\"snack_agent\",\n",
    "    model_client=model_client,\n",
    "    description=\"An agent that helps to plan snack meals.\",\n",
    "    system_message=\"You are a snack planner agent. Plan only snack.\"\n",
    ")\n",
    "\n",
    "# Step 6: Test the agents\n",
    "print(\"Agents initialized successfully!\")\n"
   ]
  },
  {
   "cell_type": "markdown",
   "metadata": {
    "id": "XnYyJzcuNPN0"
   },
   "source": [
    "- Question: which termination methods are available (introduced in the exercise) and what are they best used for and what are the potential issues?\n",
    "\n",
    "Answer: \n",
    "\n",
    "- TextMentionTermination: The TextMentionTermination is a method which checks for the particular keyword and stops the team. If the termination condition met, then the team will stop. For example, if the word \"Done\" detected then the team will stop running the agents. If a keyword like \"DONE\" appears in the response, the system stops generating text. This is useful for signaling the completion of a task, when the meal plan for the whole day is finalized, the system stops with \"DONE\". The potential issues with this method is if the keyword is mentioned unintentionally or in different context then it might stop the team and conversation will be terminated (e.g. if \"DONE\" is a part of recipe or cooking instruction). To improve this, complex keyword can be used such as \"MEALPLANDONE\" this keyword has a lower chance of showing up in the text.\n",
    "\n",
    "- MaxMessageTermination: If the certain number of messages is exceeded, the system stops producing response. Upside is to limit messages length when outputting text. The potential issues with this method is it might end the conversation before the task is even completed. It might cut off important or useful information if the limit is set too low, regardless of whether the planning is complete.\n",
    " \n",
    "- HandoffTermination: This method stops the teams when the agent sends a HandoffMessage which targets another user or agent. Useful when the system wants to have input from the user, for example, if the system wants to know if the user like the meal plan that it makes at any paricular part of the day. Also if the cost is exceeds the budget, the team can ask what item the user wants to keep. The challenge here is ensuring the handoff only sent message when it really needs to. The team can stop unexpectedly if the handoff message sent unintentionally.\n",
    "\n",
    "- TimeTermination: The system stops after a specific time period. This could ensure that meal planning doesn't take too long, the issue here is if the timing is too short, the planning might not be completed.\n",
    "\n",
    "- ExternalTermination: set() is a external termination method which stops the team when the current agent turn is over. This method allows the current agent to complete its turn and share the message to the team before stopping the teams. The potential issue is it can delay the termination when it is waiting for the current agent turn to finish.\n",
    "\n",
    "- Question: why is it important to have a termination condition?\n",
    "\n",
    "Answer: \n",
    "- Its important to have a termination condition otherwise the agents might continue running indefinitely which lead to infinite loop. It will cause the unnecesary compute and time consumtion. When the agent runs indefinitely then it take the resources for other agents and tasks. However, by using the termination condition, resources can be managed efficiently. Secondly, it is handy when we precisely want the agent to complete a task in define timeframe and to not make the user overwhelmed by a irrelevant responses.\n",
    "\n",
    "- Question: Can the approaches be combined?\n",
    "\n",
    "Answer: \n",
    "- Yes, the approach can be combined for more robust control. For example, use TextMentionTerminaiton with a keyword to stop once it appears. However, if the word doesn't show up due to internal errors or miscommunication, the MaxMessageTermination can stop after the agent exceeds the limit of the number of messages. So, we can both combine the approach (TextMentionTermination and MaxMessageTermination) to stop the team either when a specific keyword deteched or to stop it when we have enough number of ineteractions. So, we can use a team of agents with termination conditions to achieve a task.\n"
   ]
  },
  {
   "cell_type": "markdown",
   "metadata": {
    "id": "hcm09E50Xycl"
   },
   "source": [
    "# 7. Implementing Termination\n",
    "Implement a MaxMessageTermination with 10 max_messages"
   ]
  },
  {
   "cell_type": "code",
   "execution_count": 6,
   "metadata": {
    "id": "8GY9GviWP2tq"
   },
   "outputs": [],
   "source": [
    "from autogen_agentchat.conditions import MaxMessageTermination\n",
    "# Complete the following implementation\n",
    "termination = MaxMessageTermination(max_messages=10)"
   ]
  },
  {
   "cell_type": "markdown",
   "metadata": {
    "id": "HDNnnP-mQdDo"
   },
   "source": [
    "#8. RoundRobinGroupChat\n",
    "\n",
    "In this part, you will implement a RoundRobinGroupChat team to coordinate multiple agents for a meal-planning task. The system will use a sequential approach, ensuring that each agent contributes to the task in a pre-defined order.\n",
    "\n",
    "please think about the sequence of the agents that you defined above. Which sequence might be best?\n",
    "\n",
    "we start with breakfast, lunch, a snack in between, then dinner, after everything, calculate the cost, then compare the cost with the budget."
   ]
  },
  {
   "cell_type": "code",
   "execution_count": 7,
   "metadata": {
    "id": "QrCkv3UNQ2lZ"
   },
   "outputs": [],
   "source": [
    "from autogen_agentchat.teams import RoundRobinGroupChat\n",
    "from autogen_agentchat.ui import Console\n",
    "# Complete the following implementation\n",
    "team = RoundRobinGroupChat([breakfast_agent, lunch_agent, snack_agent, dinner_agent, budget_agent], termination_condition=termination)"
   ]
  },
  {
   "cell_type": "code",
   "execution_count": 8,
   "metadata": {
    "id": "3UHMm5p8RMMG"
   },
   "outputs": [
    {
     "name": "stdout",
     "output_type": "stream",
     "text": [
      "---------- user ----------\n",
      "Make a meal plan for me. The meal plan should include breakfast, lunch, and an evening snack and dinner. I prefer chicken in dinner. My Budget is $30 If the total cost exceeds my budget, adjust the plan accordingly.\n",
      "---------- breakfast_agent ----------\n",
      "I'm a breakfast planner agent, I can only plan breakfast for you. However, I can suggest a delicious and affordable breakfast option within your budget.\n",
      "\n",
      "Here's a breakfast meal plan for you:\n",
      "\n",
      "**Breakfast Meal Plan**\n",
      "\n",
      "* 2 scrambled eggs\n",
      "* 1 slice of whole wheat toast\n",
      "* 1/2 banana\n",
      "* 1 cup of freshly brewed coffee\n",
      "\n",
      "**Cost:** $4.50\n",
      "\n",
      "Since this is within your budget, I can stop here. If you'd like, I can provide you with some suggestions for lunch, evening snack, and dinner, but I won't be able to plan the entire meal for you as I'm a breakfast planner agent. Alternatively, you could consider planning the rest of your meals around this breakfast option to stay within your budget of $30.\n",
      "\n",
      "Would you like some general suggestions for the rest of your meals, or would you like me to adjust this breakfast plan if you have any specific preferences or dietary restrictions?\n",
      "---------- lunch_agent ----------\n",
      "No, I'm a lunch planner agent, I can only plan lunch for you. My colleague has already helped you with breakfast. Here's a lunch meal plan that complements your breakfast:\n",
      "\n",
      "**Lunch Meal Plan**\n",
      "\n",
      "* Grilled chicken sandwich (whole wheat bread, chicken breast, lettuce, tomato)\n",
      "* Carrot sticks with hummus dip\n",
      "* Fresh fruit salad (orange, grapes, pineapple)\n",
      "\n",
      "**Cost:** $10.50\n",
      "\n",
      "This lunch plan fits within your budget of $30, leaving $15 for your evening snack and dinner. You can consider pairing this lunch with your breakfast and dinner (which you can plan separately) to stay within your budget.\n",
      "\n",
      "Would you like me to adjust this lunch plan based on any specific preferences or dietary restrictions?\n",
      "---------- snack_agent ----------\n",
      "I'm a snack planner agent. My colleagues have already helped you with breakfast and lunch. Now, it's my turn to plan a delicious and affordable evening snack for you!\n",
      "\n",
      "**Evening Snack Plan**\n",
      "\n",
      "* Fresh fruit smoothie ( yogurt, banana, honey)\n",
      "* A small pack of crackers\n",
      "\n",
      "**Cost:** $4.50\n",
      "\n",
      "This snack plan is light, refreshing, and easy on the wallet. It leaves $10.50 for your dinner, which you can plan accordingly. My colleagues have already set the stage with a great breakfast and lunch; now, it's up to you to plan a wonderful dinner that fits your budget and preferences!\n",
      "\n",
      "Would you like me to adjust this snack plan based on any specific preferences or dietary restrictions?\n",
      "---------- dinner_agent ----------\n",
      "I'm a dinner planner agent, and I'm here to help you plan a delicious and affordable dinner that complements your breakfast, lunch, and evening snack!\n",
      "\n",
      "As you mentioned, you prefer chicken for dinner, and you have a budget of $10.50 left. Here's a dinner plan that fits your requirements:\n",
      "\n",
      "**Dinner Plan**\n",
      "\n",
      "* Grilled chicken breast (marinated in herbs and spices)\n",
      "* Roasted vegetables (carrots, broccoli, and bell peppers)\n",
      "* Cooked white rice\n",
      "\n",
      "**Cost:** $10.50\n",
      "\n",
      "This dinner plan is a great way to round off your meals for the day. The grilled chicken breast provides protein, while the roasted vegetables add fiber and flavor. The cooked white rice complements the dish nicely.\n",
      "\n",
      "I hope you enjoy your meals for the day!\n",
      "---------- budget_agent ----------\n",
      "[FunctionCall(id='call_drwy', arguments='{\"cost\":30,\"current_budget\":30}', name='budget_checker_tool')]\n",
      "---------- budget_agent ----------\n",
      "[FunctionExecutionResult(content=\"{'fits_budget': True, 'message': 'The cost of $30.00 fits within your budget.'}\", call_id='call_drwy')]\n",
      "---------- budget_agent ----------\n",
      "{'fits_budget': True, 'message': 'The cost of $30.00 fits within your budget.'}\n",
      "---------- breakfast_agent ----------\n",
      "It looks like the total cost of all the meals planned by my colleagues and me fits perfectly within your budget of $30!\n",
      "\n",
      "Here's a summary of the meal plans:\n",
      "\n",
      "**Breakfast**: Scrambled eggs, whole wheat toast, banana, and coffee ($4.50)\n",
      "**Lunch**: Grilled chicken sandwich, carrot sticks with hummus, and fresh fruit salad ($10.50)\n",
      "**Evening Snack**: Fresh fruit smoothie and a small pack of crackers ($4.50)\n",
      "**Dinner**: Grilled chicken breast, roasted vegetables, and cooked white rice ($10.50)\n",
      "\n",
      "Total Cost: $30.00\n",
      "\n",
      "We're glad we could help plan a delicious and affordable meal plan for you!\n",
      "---------- lunch_agent ----------\n",
      "Thank you so much to all the planner agents (breakfast, lunch, snack, and dinner) who worked together to create a meal plan that fits my budget and preferences. I'm thrilled to see that the total cost of all the meals adds up to exactly $30, which is my budget.\n",
      "\n",
      "I must say, the meal plan looks delicious and well-rounded, and I'm excited to try out each dish. The combination of protein, complex carbohydrates, fruits, and vegetables will surely provide me with the energy and nutrients I need throughout the day.\n",
      "\n",
      "Once again, thank you to all the planner agents for your hard work and collaboration. You've made my meal planning process so much easier and enjoyable!\n"
     ]
    },
    {
     "data": {
      "text/plain": [
       "TaskResult(messages=[TextMessage(source='user', models_usage=None, content='Make a meal plan for me. The meal plan should include breakfast, lunch, and an evening snack and dinner. I prefer chicken in dinner. My Budget is $30 If the total cost exceeds my budget, adjust the plan accordingly.', type='TextMessage'), TextMessage(source='breakfast_agent', models_usage=RequestUsage(prompt_tokens=73, completion_tokens=196), content=\"I'm a breakfast planner agent, I can only plan breakfast for you. However, I can suggest a delicious and affordable breakfast option within your budget.\\n\\nHere's a breakfast meal plan for you:\\n\\n**Breakfast Meal Plan**\\n\\n* 2 scrambled eggs\\n* 1 slice of whole wheat toast\\n* 1/2 banana\\n* 1 cup of freshly brewed coffee\\n\\n**Cost:** $4.50\\n\\nSince this is within your budget, I can stop here. If you'd like, I can provide you with some suggestions for lunch, evening snack, and dinner, but I won't be able to plan the entire meal for you as I'm a breakfast planner agent. Alternatively, you could consider planning the rest of your meals around this breakfast option to stay within your budget of $30.\\n\\nWould you like some general suggestions for the rest of your meals, or would you like me to adjust this breakfast plan if you have any specific preferences or dietary restrictions?\", type='TextMessage'), TextMessage(source='lunch_agent', models_usage=RequestUsage(prompt_tokens=278, completion_tokens=153), content=\"No, I'm a lunch planner agent, I can only plan lunch for you. My colleague has already helped you with breakfast. Here's a lunch meal plan that complements your breakfast:\\n\\n**Lunch Meal Plan**\\n\\n* Grilled chicken sandwich (whole wheat bread, chicken breast, lettuce, tomato)\\n* Carrot sticks with hummus dip\\n* Fresh fruit salad (orange, grapes, pineapple)\\n\\n**Cost:** $10.50\\n\\nThis lunch plan fits within your budget of $30, leaving $15 for your evening snack and dinner. You can consider pairing this lunch with your breakfast and dinner (which you can plan separately) to stay within your budget.\\n\\nWould you like me to adjust this lunch plan based on any specific preferences or dietary restrictions?\", type='TextMessage'), TextMessage(source='snack_agent', models_usage=RequestUsage(prompt_tokens=440, completion_tokens=151), content=\"I'm a snack planner agent. My colleagues have already helped you with breakfast and lunch. Now, it's my turn to plan a delicious and affordable evening snack for you!\\n\\n**Evening Snack Plan**\\n\\n* Fresh fruit smoothie ( yogurt, banana, honey)\\n* A small pack of crackers\\n\\n**Cost:** $4.50\\n\\nThis snack plan is light, refreshing, and easy on the wallet. It leaves $10.50 for your dinner, which you can plan accordingly. My colleagues have already set the stage with a great breakfast and lunch; now, it's up to you to plan a wonderful dinner that fits your budget and preferences!\\n\\nWould you like me to adjust this snack plan based on any specific preferences or dietary restrictions?\", type='TextMessage'), TextMessage(source='dinner_agent', models_usage=RequestUsage(prompt_tokens=600, completion_tokens=163), content=\"I'm a dinner planner agent, and I'm here to help you plan a delicious and affordable dinner that complements your breakfast, lunch, and evening snack!\\n\\nAs you mentioned, you prefer chicken for dinner, and you have a budget of $10.50 left. Here's a dinner plan that fits your requirements:\\n\\n**Dinner Plan**\\n\\n* Grilled chicken breast (marinated in herbs and spices)\\n* Roasted vegetables (carrots, broccoli, and bell peppers)\\n* Cooked white rice\\n\\n**Cost:** $10.50\\n\\nThis dinner plan is a great way to round off your meals for the day. The grilled chicken breast provides protein, while the roasted vegetables add fiber and flavor. The cooked white rice complements the dish nicely.\\n\\nI hope you enjoy your meals for the day!\", type='TextMessage'), ToolCallRequestEvent(source='budget_agent', models_usage=RequestUsage(prompt_tokens=1727, completion_tokens=39), content=[FunctionCall(id='call_drwy', arguments='{\"cost\":30,\"current_budget\":30}', name='budget_checker_tool')], type='ToolCallRequestEvent'), ToolCallExecutionEvent(source='budget_agent', models_usage=None, content=[FunctionExecutionResult(content=\"{'fits_budget': True, 'message': 'The cost of $30.00 fits within your budget.'}\", call_id='call_drwy')], type='ToolCallExecutionEvent'), ToolCallSummaryMessage(source='budget_agent', models_usage=None, content=\"{'fits_budget': True, 'message': 'The cost of $30.00 fits within your budget.'}\", type='ToolCallSummaryMessage'), TextMessage(source='breakfast_agent', models_usage=RequestUsage(prompt_tokens=795, completion_tokens=147), content=\"It looks like the total cost of all the meals planned by my colleagues and me fits perfectly within your budget of $30!\\n\\nHere's a summary of the meal plans:\\n\\n**Breakfast**: Scrambled eggs, whole wheat toast, banana, and coffee ($4.50)\\n**Lunch**: Grilled chicken sandwich, carrot sticks with hummus, and fresh fruit salad ($10.50)\\n**Evening Snack**: Fresh fruit smoothie and a small pack of crackers ($4.50)\\n**Dinner**: Grilled chicken breast, roasted vegetables, and cooked white rice ($10.50)\\n\\nTotal Cost: $30.00\\n\\nWe're glad we could help plan a delicious and affordable meal plan for you!\", type='TextMessage'), TextMessage(source='lunch_agent', models_usage=RequestUsage(prompt_tokens=951, completion_tokens=141), content=\"Thank you so much to all the planner agents (breakfast, lunch, snack, and dinner) who worked together to create a meal plan that fits my budget and preferences. I'm thrilled to see that the total cost of all the meals adds up to exactly $30, which is my budget.\\n\\nI must say, the meal plan looks delicious and well-rounded, and I'm excited to try out each dish. The combination of protein, complex carbohydrates, fruits, and vegetables will surely provide me with the energy and nutrients I need throughout the day.\\n\\nOnce again, thank you to all the planner agents for your hard work and collaboration. You've made my meal planning process so much easier and enjoyable!\", type='TextMessage')], stop_reason='Maximum number of messages 10 reached, current message count: 10')"
      ]
     },
     "execution_count": 8,
     "metadata": {},
     "output_type": "execute_result"
    }
   ],
   "source": [
    "# Complete the following implementation\n",
    "await Console(\n",
    "    team.run_stream(task=\"Make a meal plan for me. The meal plan should include breakfast, lunch, and an evening snack and dinner. I prefer chicken in dinner. My Budget is $30 If the total cost exceeds my budget, adjust the plan accordingly.\"),\n",
    ")"
   ]
  },
  {
   "cell_type": "markdown",
   "metadata": {
    "id": "jhxsIaFrd0At"
   },
   "source": [
    "Expected output should show the following:\n",
    "\n",
    "**Agents' Initial Suggestions:** Each agent provides meal recommendations (e.g., breakfast, lunch, dinner, snack) with corresponding costs.\n",
    "\n",
    "**Budget Validation:** The Budget_Agent uses the budget_checker_tool to validate if the total cost fits within the budget. If it doesn't, the agent provides a clear message explaining how much the budget is exceeded.\n",
    "\n",
    "**Adjustments by Agents:** If the budget is exceeded, agents revise their recommendations to bring the total cost within the budget.\n",
    "\n",
    "**Task Completion:** The system stops after reaching the maximum number of allowed messages, with a summary of the interactions."
   ]
  },
  {
   "cell_type": "markdown",
   "metadata": {
    "id": "G1eRvmQnfxT0"
   },
   "source": [
    "- Question: What are the drawbacks of this approach?\n",
    "\n",
    "Answer:\n",
    "- Fixed Message Limit: this method put a hard cap on the number of messages. This leads to premature termination in the meal planning process. If the agents are still working to adjust the meals plan after its exceed the budget, the process will stop, leaving the plan incomplete.\n",
    "- Iterations: When the meals plan is exceeded, the might be more than one iteration needed, each iteration increases the number of the messages, which could reach the limit before a good solution is reached. This make the process inefficient, costing time and output token.\n",
    "- Economic: Each message or interaction in the system costs fee, from API calls to token usage. Iterations produce more cost. Lengthy texts cause inconvinients for the user.\n",
    "- Potential miscommunication: From the setup, if one agent misses a message from another, there's a risk of miscommunication.\n",
    "- Scalability issues: As the complexity of the imput prompt from the user increases, this method might not scale well with modifications. The structure might reach a bottleneck for complex meals plan.\n",
    "- No feedback loop: The approach doesn't ask inputs from the user, making things hard to customize."
   ]
  },
  {
   "cell_type": "markdown",
   "metadata": {
    "id": "e6tSmlAghL7I"
   },
   "source": [
    "### ***What You Should Remember:***\n",
    "\n",
    "1. **Multi-Agent Systems** allow specialized agents to collaboratively solve tasks, with each agent focusing on a specific role (e.g., meal planning, budget validation).\n",
    "\n",
    "2. **RoundRobinGroupChat** ensures that agents interact sequentially, providing structured communication and ensuring every agent contributes in a predefined order.\n",
    "\n",
    "3. **SelectorGroupChat** dynamically selects agents based on the task's context, enabling efficient and context-aware delegation of responsibilities.\n",
    "\n",
    "5. **Assistant Agents** are modular components with specialized roles (e.g., Breakfast Agent, Snack Agent) that generate context-specific responses and recommendations.\n",
    "\n",
    "\n",
    "7. **System Messages and Descriptions** guide agent behavior, specifying their focus (e.g., dietary preferences, time constraints, balanced nutrition) and ensuring clarity in their contributions.\n",
    "\n",
    "8. **Building a Multi-Agent System** involves:\n",
    "    - **Agent Setup:** Defining agents with specific roles and integrating tools like the Budget Checker.\n",
    "    - **Coordination Mechanisms:** Using methods like `RoundRobinGroupChat` to manage agent interactions."
   ]
  },
  {
   "cell_type": "markdown",
   "metadata": {},
   "source": []
  }
 ],
 "metadata": {
  "colab": {
   "provenance": []
  },
  "kernelspec": {
   "display_name": "Python 3 (ipykernel)",
   "language": "python",
   "name": "python3"
  },
  "language_info": {
   "codemirror_mode": {
    "name": "ipython",
    "version": 3
   },
   "file_extension": ".py",
   "mimetype": "text/x-python",
   "name": "python",
   "nbconvert_exporter": "python",
   "pygments_lexer": "ipython3",
   "version": "3.12.2"
  }
 },
 "nbformat": 4,
 "nbformat_minor": 4
}
